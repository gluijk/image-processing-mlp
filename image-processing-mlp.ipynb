{
 "cells": [
  {
   "cell_type": "markdown",
   "metadata": {},
   "source": [
    "# Image processing reverse engineering with NN\n",
    "### www.elmomentodecisivo.com"
   ]
  },
  {
   "cell_type": "markdown",
   "metadata": {},
   "source": [
    "## Libraries needed"
   ]
  },
  {
   "cell_type": "code",
   "execution_count": 1,
   "metadata": {},
   "outputs": [],
   "source": [
    "import os\n",
    "import imageio  # read/write image formats\n",
    "\n",
    "import numpy as np\n",
    "import matplotlib.pyplot as plt\n",
    "from sklearn.neural_network import MLPRegressor  # our MLP!"
   ]
  },
  {
   "cell_type": "markdown",
   "metadata": {},
   "source": [
    "## Read images (training set)"
   ]
  },
  {
   "cell_type": "code",
   "execution_count": 2,
   "metadata": {},
   "outputs": [
    {
     "name": "stdout",
     "output_type": "stream",
     "text": [
      "Images have HEIGHT = 4096 and WIDTH = 4096\n",
      "Total number of training examples is 16777216\n"
     ]
    }
   ],
   "source": [
    "# Alternative to imageio:\n",
    "# import Image\n",
    "# img = Image.open(infilename)\n",
    "\n",
    "features = imageio.imread('./RGB16Million.png')\n",
    "targets = imageio.imread('./RGB16Milliontransformed.png')\n",
    "\n",
    "HEIGHT = features.shape[0]\n",
    "WIDTH = features.shape[1]\n",
    "\n",
    "print(\"Images have HEIGHT =\", HEIGHT, \"and WIDTH =\", WIDTH)\n",
    "print(\"Total number of training examples is\", HEIGHT*WIDTH)"
   ]
  },
  {
   "cell_type": "code",
   "execution_count": 3,
   "metadata": {},
   "outputs": [
    {
     "data": {
      "image/png": "[encoded data removed]",
      "text/plain": [
       "<Figure size 432x288 with 1 Axes>"
      ]
     },
     "metadata": {
      "needs_background": "light"
     },
     "output_type": "display_data"
    }
   ],
   "source": [
    "# Features histogram (flat since it contains once every possible value)\n",
    "R = features[:, :, 0].flatten()\n",
    "G = features[:, :, 1].flatten()\n",
    "B = features[:, :, 2].flatten()\n",
    "\n",
    "plt.hist(R, bins=256, color='r', alpha=0.5)\n",
    "plt.hist(G, bins=256, color='g', alpha=0.5)\n",
    "plt.hist(B, bins=256, color='b', alpha=0.5)\n",
    "plt.show();"
   ]
  },
  {
   "cell_type": "code",
   "execution_count": 4,
   "metadata": {},
   "outputs": [
    {
     "data": {
      "image/png": "[encoded data removed]",
      "text/plain": [
       "<Figure size 432x288 with 1 Axes>"
      ]
     },
     "metadata": {
      "needs_background": "light"
     },
     "output_type": "display_data"
    }
   ],
   "source": [
    "# Targets histogram\n",
    "R_ = targets[:, :, 0].flatten()\n",
    "G_ = targets[:, :, 1].flatten()\n",
    "B_ = targets[:, :, 2].flatten()\n",
    "\n",
    "plt.hist(R_, bins=256, color='r', alpha=0.5)\n",
    "plt.hist(G_, bins=256, color='g', alpha=0.5)\n",
    "plt.hist(B_, bins=256, color='b', alpha=0.5)\n",
    "plt.show();"
   ]
  },
  {
   "cell_type": "markdown",
   "metadata": {},
   "source": [
    "## Neural Network training"
   ]
  },
  {
   "cell_type": "code",
   "execution_count": 5,
   "metadata": {},
   "outputs": [],
   "source": [
    "# Convert images into long 2D arrays\n",
    "X = np.column_stack((R, G, B))/255\n",
    "Y = np.column_stack((R_, G_, B_))/255"
   ]
  },
  {
   "cell_type": "code",
   "execution_count": 6,
   "metadata": {},
   "outputs": [
    {
     "name": "stdout",
     "output_type": "stream",
     "text": [
      "Variable       Type       Data/Info\n",
      "-----------------------------------\n",
      "HEIGHT         int        4096\n",
      "MLPRegressor   ABCMeta    <class 'sklearn.neural_ne<...>perceptron.MLPRegressor'>\n",
      "WIDTH          int        4096\n",
      "X              ndarray    16777216x3: 50331648 elems, type `float64`, 402653184 bytes (384.0 Mb)\n",
      "Y              ndarray    16777216x3: 50331648 elems, type `float64`, 402653184 bytes (384.0 Mb)\n",
      "imageio        module     <module 'imageio' from 'C<...>s\\\\imageio\\\\__init__.py'>\n",
      "np             module     <module 'numpy' from 'C:\\<...>ges\\\\numpy\\\\__init__.py'>\n",
      "os             module     <module 'os' from 'C:\\\\Us<...>vs\\\\py36env\\\\lib\\\\os.py'>\n",
      "plt            module     <module 'matplotlib.pyplo<...>\\\\matplotlib\\\\pyplot.py'>\n"
     ]
    }
   ],
   "source": [
    "# Save memory\n",
    "del features, targets, R, G, B, R_, G_, B_\n",
    "%whos"
   ]
  },
  {
   "cell_type": "code",
   "execution_count": 7,
   "metadata": {},
   "outputs": [
    {
     "name": "stdout",
     "output_type": "stream",
     "text": [
      "Iteration 1, loss = 0.00045729\n",
      "Iteration 2, loss = 0.00003925\n",
      "Iteration 3, loss = 0.00002442\n",
      "Iteration 4, loss = 0.00001824\n",
      "Iteration 5, loss = 0.00001517\n",
      "Iteration 6, loss = 0.00001330\n",
      "Iteration 7, loss = 0.00001196\n",
      "Iteration 8, loss = 0.00001094\n",
      "Iteration 9, loss = 0.00001014\n",
      "Iteration 10, loss = 0.00000949\n",
      "Iteration 11, loss = 0.00000892\n",
      "Iteration 12, loss = 0.00000841\n",
      "Iteration 13, loss = 0.00000796\n",
      "Iteration 14, loss = 0.00000756\n",
      "Iteration 15, loss = 0.00000720\n",
      "Iteration 16, loss = 0.00000690\n",
      "Iteration 17, loss = 0.00000661\n",
      "Iteration 18, loss = 0.00000634\n",
      "Iteration 19, loss = 0.00000606\n",
      "Iteration 20, loss = 0.00000582\n",
      "Iteration 21, loss = 0.00000560\n",
      "Iteration 22, loss = 0.00000540\n",
      "Iteration 23, loss = 0.00000521\n",
      "Iteration 24, loss = 0.00000503\n",
      "Iteration 25, loss = 0.00000488\n",
      "Iteration 26, loss = 0.00000474\n",
      "Iteration 27, loss = 0.00000462\n",
      "Iteration 28, loss = 0.00000450\n",
      "Iteration 29, loss = 0.00000440\n",
      "Iteration 30, loss = 0.00000430\n"
     ]
    },
    {
     "name": "stderr",
     "output_type": "stream",
     "text": [
      "C:\\Users\\gluij\\Anaconda3\\envs\\py36env\\lib\\site-packages\\sklearn\\neural_network\\multilayer_perceptron.py:562: ConvergenceWarning: Stochastic Optimizer: Maximum iterations (30) reached and the optimization hasn't converged yet.\n",
      "  % self.max_iter, ConvergenceWarning)\n"
     ]
    },
    {
     "data": {
      "text/plain": [
       "MLPRegressor(activation='logistic', alpha=0, batch_size='auto', beta_1=0.9,\n",
       "       beta_2=0.999, early_stopping=False, epsilon=1e-08,\n",
       "       hidden_layer_sizes=(64, 64), learning_rate='constant',\n",
       "       learning_rate_init=0.001, max_iter=30, momentum=0.9,\n",
       "       n_iter_no_change=10, nesterovs_momentum=True, power_t=0.5,\n",
       "       random_state=None, shuffle=True, solver='adam', tol=1e-07,\n",
       "       validation_fraction=0.1, verbose=True, warm_start=False)"
      ]
     },
     "execution_count": 7,
     "metadata": {},
     "output_type": "execute_result"
    }
   ],
   "source": [
    "# NN training hyperparameters\n",
    "regr = MLPRegressor(solver='adam',  # solver 'sgd', lbfgs'\n",
    "                    alpha=0,  # no L2 (ridge regression) regularization\n",
    "                    hidden_layer_sizes=(64, 64),  # tuple setting layers and nodes\n",
    "                    activation='logistic',  # hidden layer activation function (default 'relu') \n",
    "                                            # 'logistic' (sigmoid) seems more adequate to model continuous functions\n",
    "                    max_iter=30,  # max epochs\n",
    "                    tol=0.0000001,  # tolerance for early stopping\n",
    "                    n_iter_no_change=10,  # number of epochs to check tol\n",
    "                    verbose=True)  # tell me a story\n",
    "regr.out_activation_ = 'relu'  # output layer activation function (default 'identity')\n",
    "                               # 'relu' seems a good idea since RGB values can only be positive\n",
    "regr.fit(X, Y)"
   ]
  },
  {
   "cell_type": "code",
   "execution_count": 8,
   "metadata": {},
   "outputs": [
    {
     "data": {
      "image/png": "[encoded data removed]",
      "text/plain": [
       "<Figure size 432x288 with 1 Axes>"
      ]
     },
     "metadata": {
      "needs_background": "light"
     },
     "output_type": "display_data"
    }
   ],
   "source": [
    "plt.plot(regr.loss_curve_)\n",
    "plt.ylabel('Loss')\n",
    "plt.xlabel('Epochs');"
   ]
  },
  {
   "cell_type": "code",
   "execution_count": 11,
   "metadata": {},
   "outputs": [
    {
     "data": {
      "text/plain": [
       "[array([[-1.34589543e+01, -1.19245023e+00,  7.57777495e+00,\n",
       "         -4.97814923e+00, -1.11405655e+00, -6.51102169e+00,\n",
       "         -2.99981788e+00,  4.89162644e+00, -4.97821511e+00,\n",
       "         -2.99259952e+00, -1.68947656e+00,  3.35176266e+00,\n",
       "         -2.83585754e+00, -4.70531138e-01,  3.74226156e+00,\n",
       "         -1.82360805e+00, -6.20344281e-01, -5.24387240e+00,\n",
       "         -4.06373610e+00,  1.33416096e-01,  9.81402872e+00,\n",
       "         -2.04600893e+00,  1.09891260e+00, -1.39990293e+00,\n",
       "         -2.30087772e+00,  3.99473126e-01,  4.04009150e-01,\n",
       "          2.66056622e-01, -3.13850626e+00,  1.74818954e+00,\n",
       "          1.60344162e+00,  4.07180140e+00, -1.71668164e+00,\n",
       "          3.27438424e-01, -2.34651383e+00, -7.42672092e+00,\n",
       "         -8.65042864e+00, -2.12268488e+01, -2.53750345e+00,\n",
       "          1.42693827e+00, -1.28517000e+00, -1.00708795e+00,\n",
       "         -2.02079223e-01,  1.70436718e+01,  8.69650668e-02,\n",
       "         -9.51758694e+00, -2.75235232e+00,  4.20805025e-01,\n",
       "         -2.14319052e-02,  3.21027445e+00, -1.61614213e+00,\n",
       "          1.49536508e-01,  1.45365388e+00, -2.07641810e+00,\n",
       "         -1.11492261e+00,  1.40384924e-01,  2.83859193e+00,\n",
       "         -1.85833909e-01, -2.33779206e+00, -3.04222532e+00,\n",
       "         -1.37405661e+00,  3.24928322e-01,  1.60423047e-01,\n",
       "         -9.72649211e+00],\n",
       "        [ 7.50298854e+00, -1.97337785e+00, -3.50535574e+00,\n",
       "          9.60692060e+00,  2.42196857e-01,  4.88308408e+00,\n",
       "         -2.00510186e-01, -1.86611805e+00,  4.30491021e+00,\n",
       "          8.16126956e-01, -1.96355827e+00, -8.04684459e-01,\n",
       "         -1.51715666e+00, -2.56593105e+00,  1.39155035e+00,\n",
       "         -2.08895056e+00, -2.12043529e+00, -5.32212182e+00,\n",
       "          1.53155905e+01, -4.47797284e+00,  3.63829213e-01,\n",
       "         -1.98446841e+00, -3.11032775e+00,  9.52521732e+00,\n",
       "         -2.10414878e+00, -2.69194374e+00,  6.72144715e+00,\n",
       "          2.11439309e+01,  6.54206612e-01, -1.34272503e+00,\n",
       "         -1.98781397e+00,  8.20485313e+00,  4.52835906e+00,\n",
       "         -1.63646826e+00, -4.04151670e+00,  6.14122461e+00,\n",
       "          8.30037471e+00, -4.98886053e-01,  8.14191764e-01,\n",
       "          1.73589910e+00,  1.18619603e+00, -2.46924446e+00,\n",
       "          3.11221845e+00, -1.42798184e+01,  1.34630743e+00,\n",
       "         -1.62294389e+00,  6.21909153e+00,  1.09218781e+01,\n",
       "          3.86671804e+00,  5.89442541e-01, -2.02753613e+00,\n",
       "          2.95243802e-01, -2.37606330e+00, -1.63459243e+00,\n",
       "         -2.07102617e+00,  3.79369639e+00, -2.49695585e+00,\n",
       "         -1.04811214e+00, -5.83872080e-01,  3.59916496e+00,\n",
       "         -5.60011714e-01,  5.28780308e+00,  1.17455584e-01,\n",
       "          3.97943479e+00],\n",
       "        [ 5.86757229e+00, -1.07646454e+00, -5.02604561e+00,\n",
       "         -6.34457143e+00, -8.25875645e+00, -5.76847658e+00,\n",
       "         -2.20077766e-01, -1.19580888e+01,  4.56229572e+00,\n",
       "         -7.89795135e+00, -8.96858892e+00, -3.17665129e+00,\n",
       "          4.68822953e-01, -2.00316590e+00, -2.28130864e+00,\n",
       "         -8.85044546e-01, -1.47841273e+00,  4.68820300e+00,\n",
       "          3.28328953e+00, -6.61631294e+00, -1.41001621e+01,\n",
       "         -5.90379761e-01,  2.96637022e+00, -7.23393281e+00,\n",
       "          3.68673805e-02, -1.39400790e-02, -7.11099533e+00,\n",
       "         -7.01665893e-01,  8.65463695e-01, -2.61481265e+00,\n",
       "          1.61515242e+00, -1.56121707e+01,  5.45857035e+00,\n",
       "          5.28819900e+00,  7.12028206e+00, -8.63808311e+00,\n",
       "         -8.08931969e-01, -1.19178693e-01,  1.98124247e+01,\n",
       "          4.67787036e-01,  1.03029617e+00, -6.93448853e-01,\n",
       "         -1.11009988e+01, -1.15739155e+00, -9.63047141e+00,\n",
       "         -4.20646561e-01, -1.91262522e+00, -3.10760690e+00,\n",
       "         -1.35235747e+00,  3.26972958e-01,  1.78304150e-01,\n",
       "         -1.60838438e+01,  1.16434821e+00, -1.46322987e+00,\n",
       "          6.94372890e-01, -5.46404975e-01, -5.70170437e+00,\n",
       "          1.53400342e+00, -2.33106441e+00, -3.91514385e-01,\n",
       "         -2.29721020e+00, -7.66087263e+00,  2.30528824e+00,\n",
       "         -3.32339773e+00]]),\n",
       " array([[-1.22473628, -0.18454418,  1.19748611, ..., -1.41314154,\n",
       "          0.62353971,  2.84812248],\n",
       "        [ 0.56737041, -0.51045708,  0.4041584 , ...,  0.3811222 ,\n",
       "         -0.27655744, -0.45012161],\n",
       "        [ 0.84889856, -2.02463914, -0.72443517, ..., -3.32153131,\n",
       "          0.30564299,  0.2602935 ],\n",
       "        ...,\n",
       "        [ 0.40162813,  0.89292515, -2.11748676, ...,  3.86412813,\n",
       "         -0.3122194 , -2.78261731],\n",
       "        [-0.4345592 , -0.01455008, -0.72195557, ..., -0.58780824,\n",
       "         -0.45041201, -0.91377303],\n",
       "        [ 1.58777187, -2.7442657 ,  0.32280033, ...,  0.30604062,\n",
       "          0.43355685, -0.89411064]]),\n",
       " array([[ 5.86440026e-02,  2.75436596e-01,  1.34581021e-02],\n",
       "        [ 3.30897741e-02,  6.38878862e-02,  8.83401800e-02],\n",
       "        [ 2.09751178e-01,  3.56658428e-02,  1.93805846e-01],\n",
       "        [ 3.12880299e-01,  5.88377748e-01,  3.35574611e-01],\n",
       "        [ 5.69969648e-01,  5.15788717e-01,  9.25251247e-01],\n",
       "        [-7.15171790e-01, -2.75750453e-01, -1.04292226e+00],\n",
       "        [-1.84915606e-01, -6.68796109e-02, -1.65672469e-01],\n",
       "        [-7.18146775e-01,  4.76773280e-01, -1.48498185e-01],\n",
       "        [-4.81730152e-01, -1.25630450e-01,  2.30891163e-01],\n",
       "        [-5.02488169e-02,  5.23024188e-01,  6.00585601e-01],\n",
       "        [ 6.44268329e-02,  1.17146237e-01,  6.93027449e-02],\n",
       "        [-5.60533224e-01,  6.06782817e-01,  1.03463594e-01],\n",
       "        [ 8.98410176e-01,  3.87074290e-01, -1.81483846e-01],\n",
       "        [-9.16524238e-04,  1.70099051e-01, -1.69797112e-02],\n",
       "        [ 7.43723603e-02,  1.11697619e-01,  3.43637155e-02],\n",
       "        [ 4.16975095e-01,  8.89955947e-03,  4.20608101e-01],\n",
       "        [ 6.27538989e-02, -1.32328198e-02, -5.94112988e-02],\n",
       "        [ 6.30588918e-02,  1.51910316e-01,  7.58842104e-02],\n",
       "        [-3.38635921e-01, -2.27376206e-01, -4.49451573e-01],\n",
       "        [-4.89860304e-02, -3.73669136e-02,  3.75105747e-02],\n",
       "        [-6.09479823e-03, -8.15283577e-02, -1.21878788e-01],\n",
       "        [ 1.32707440e-01,  2.10380322e-01,  1.78297672e-01],\n",
       "        [ 1.75734843e-01,  2.50770008e-01,  5.41922356e-01],\n",
       "        [ 1.05119986e-01, -2.39521029e-01,  9.12268044e-01],\n",
       "        [ 1.63183711e-01,  4.81969898e-02,  1.17370745e-01],\n",
       "        [-1.12955592e-01, -6.41644490e-02,  2.37569916e-02],\n",
       "        [ 2.01518501e-01,  1.07447688e-01, -1.71922073e-02],\n",
       "        [ 1.61048784e-01, -5.50813986e-03,  1.37805651e-01],\n",
       "        [ 2.20721673e-01,  2.76232946e-01,  2.71127489e-01],\n",
       "        [-1.17364815e-01, -7.41467020e-03, -1.17873849e-01],\n",
       "        [ 1.06297571e-02,  2.77079948e-02, -1.48075935e-02],\n",
       "        [-1.37918720e-01, -9.23614024e-02, -1.66479808e-01],\n",
       "        [ 2.17198689e-01,  3.77071853e-02,  2.57190750e-01],\n",
       "        [ 2.57338014e-01,  2.21006392e-01,  9.21710215e-02],\n",
       "        [-2.47065230e-01, -1.54112500e-01,  5.52173965e-02],\n",
       "        [ 2.77710325e-01, -6.70463159e-01, -1.08323621e+00],\n",
       "        [-1.13090044e-02,  2.72547585e-02, -1.33923872e-01],\n",
       "        [ 9.42104080e-02,  8.93270394e-02,  4.45802983e-03],\n",
       "        [ 2.19860157e-01, -3.31798109e-02,  6.31194991e-02],\n",
       "        [ 1.16997206e-01,  1.25494861e-01,  7.21973122e-02],\n",
       "        [-9.98439496e-01, -1.33212289e-01,  2.64558238e-01],\n",
       "        [ 4.01394531e-01,  6.73167426e-01,  6.31903935e-01],\n",
       "        [-1.04607612e+00,  7.72059979e-01, -2.02460959e-01],\n",
       "        [ 1.42477597e-01,  1.08201710e-01,  2.43098348e-02],\n",
       "        [ 1.26354332e-01,  2.82750055e-01,  1.69011645e-01],\n",
       "        [ 1.41941869e-01,  1.60548678e-01,  1.45960446e-02],\n",
       "        [-2.46789293e-02,  6.07916381e-01, -3.72789535e-01],\n",
       "        [-1.14322409e-01, -1.91727684e-01, -3.34550672e-02],\n",
       "        [-3.56570520e-01, -9.93247815e-01, -6.11041667e-01],\n",
       "        [ 4.16548571e-02,  1.26775409e-01,  1.64834946e-01],\n",
       "        [ 2.68731029e-01, -1.68352346e-01, -5.59780394e-02],\n",
       "        [-3.37850075e-01, -3.89784027e-01,  1.25670248e+00],\n",
       "        [ 6.97598331e-01,  1.11656760e-01,  1.01004054e-01],\n",
       "        [-3.33840286e-02, -1.30423354e-01, -9.81304204e-03],\n",
       "        [ 1.36763187e-01, -3.68351771e-02,  1.02566641e-03],\n",
       "        [ 1.41627015e-01,  2.28397355e-01,  2.55318403e-01],\n",
       "        [ 1.76396725e-01,  2.10921564e-01, -1.22262939e-01],\n",
       "        [-7.07287465e-01, -1.00205935e-01,  8.63028503e-01],\n",
       "        [-1.69231705e-02,  2.97866202e-02,  1.49686570e-01],\n",
       "        [ 7.61738715e-02,  5.62130193e-01,  6.87489881e-01],\n",
       "        [ 3.48014740e-01, -8.29533600e-02,  2.88249692e-01],\n",
       "        [-9.46399597e-02, -2.66812321e-02, -5.89463405e-02],\n",
       "        [-1.18450107e-01,  3.77003602e-02,  1.41472676e-01],\n",
       "        [-3.24740881e-02, -7.64296857e-02, -4.15639793e-03]])]"
      ]
     },
     "execution_count": 11,
     "metadata": {},
     "output_type": "execute_result"
    }
   ],
   "source": [
    "# NN weights\n",
    "regr.coefs_"
   ]
  },
  {
   "cell_type": "code",
   "execution_count": 12,
   "metadata": {},
   "outputs": [
    {
     "data": {
      "text/plain": [
       "[array([ 1.08060003e+00,  3.62940554e-02, -1.19631122e+00,  7.48017044e-01,\n",
       "         4.06062361e+00, -6.74510122e-02,  1.07003075e+00,  3.54057388e+00,\n",
       "        -3.56464591e+00, -3.92587916e-01,  7.09701972e+00,  4.24423301e-01,\n",
       "         1.26421783e+00, -6.07945639e-01, -2.88570260e+00, -2.73986836e-01,\n",
       "         7.19079568e-02, -1.22730861e+00, -6.35639272e-01,  4.90070846e-01,\n",
       "         1.98763831e+00, -4.01325007e-01, -2.90203661e+00, -3.11709760e-01,\n",
       "         4.22372829e-01, -1.54089577e+00,  3.22513725e-01, -3.12437658e+00,\n",
       "         5.36791413e-01, -6.16895675e-01, -3.13223999e+00,  1.51331586e+00,\n",
       "        -4.85894331e+00, -1.28984768e+00, -1.81073374e+00,  4.53678321e+00,\n",
       "         7.72623947e-01, -1.59791457e-01, -2.54011654e+00, -2.41884612e+00,\n",
       "        -2.86037797e+00,  2.43341793e-01, -5.12220013e-01, -1.98867281e+00,\n",
       "        -1.60365621e+00,  3.25598137e+00, -3.26522280e+00, -4.53306561e+00,\n",
       "        -2.91533872e+00, -3.90916745e+00,  1.04696331e-01,  5.05018315e+00,\n",
       "        -5.33590618e-01, -1.49683644e-01, -5.03198878e-03, -3.69161865e+00,\n",
       "        -7.75521505e-01, -2.95148570e+00, -4.21938847e+00, -7.70784562e-01,\n",
       "        -4.30612047e+00, -8.85331580e-01, -3.01502373e+00,  2.37932646e+00]),\n",
       " array([-0.08305162, -0.39269235, -0.38318077, -0.49013362, -0.80236046,\n",
       "        -0.60895198, -0.36698103, -0.15224821, -0.77131485, -0.48224115,\n",
       "        -0.26360769, -0.66762177, -0.4082961 ,  1.36496848, -0.11243014,\n",
       "        -0.55035046, -0.05016495, -0.16565828, -0.29147802,  0.28458949,\n",
       "        -0.54664587,  0.25767687, -0.87992626, -0.30547555, -0.77625686,\n",
       "         0.07745774,  0.4771901 ,  0.0031131 , -0.44587628,  0.2789615 ,\n",
       "        -0.17338832,  0.86806193, -0.50140314, -0.11096346,  0.25941614,\n",
       "        -0.36386457, -0.90998953, -0.57809869, -0.45462322, -0.3183243 ,\n",
       "        -0.29985347, -0.42476901, -0.21398542,  0.0094149 , -0.30815059,\n",
       "         0.30904816, -0.35161501, -0.26999988, -0.43240662,  0.39738021,\n",
       "        -0.31432818, -0.10473485, -0.66678443,  0.22620375,  0.3498562 ,\n",
       "        -0.3417755 , -0.28381356, -0.32516516, -0.25744804, -0.9300073 ,\n",
       "        -0.25478171,  0.16850217,  0.05563105, -0.011724  ]),\n",
       " array([0.09476855, 0.02791147, 0.22870992])]"
      ]
     },
     "execution_count": 12,
     "metadata": {},
     "output_type": "execute_result"
    }
   ],
   "source": [
    "# NN biases\n",
    "regr.intercepts_"
   ]
  },
  {
   "cell_type": "markdown",
   "metadata": {},
   "source": [
    "## Neural Network prediction"
   ]
  },
  {
   "cell_type": "code",
   "execution_count": 13,
   "metadata": {},
   "outputs": [],
   "source": [
    "# Read image to process (unknown to the NN)\n",
    "to_predict = imageio.imread('./wendolin.png')\n",
    "# to_predict = imageio.imread('./aspirations.png')\n",
    "\n",
    "HEIGHT = to_predict.shape[0]\n",
    "WIDTH = to_predict.shape[1]\n",
    "\n",
    "# Extract RGB channels\n",
    "R = to_predict[:, :, 0].flatten()\n",
    "G = to_predict[:, :, 1].flatten()\n",
    "B = to_predict[:, :, 2].flatten()\n",
    "\n",
    "X = np.column_stack((R, G, B))/255"
   ]
  },
  {
   "cell_type": "code",
   "execution_count": 21,
   "metadata": {},
   "outputs": [],
   "source": [
    "# Prediction\n",
    "Y_pred = regr.predict(X)\n",
    "\n",
    "# Keep in range [0..1]\n",
    "Y_pred[Y_pred < 0] = 0.0\n",
    "Y_pred[Y_pred > 1] = 1.0"
   ]
  },
  {
   "cell_type": "code",
   "execution_count": 22,
   "metadata": {},
   "outputs": [
    {
     "data": {
      "image/png": "[encoded data removed]",
      "text/plain": [
       "<Figure size 432x288 with 1 Axes>"
      ]
     },
     "metadata": {
      "needs_background": "light"
     },
     "output_type": "display_data"
    }
   ],
   "source": [
    "# Prediction histogram\n",
    "R_ = np.round(Y_pred[:, 0]*255).astype(int)\n",
    "G_ = np.round(Y_pred[:, 1]*255).astype(int)\n",
    "B_ = np.round(Y_pred[:, 2]*255).astype(int)\n",
    "\n",
    "plt.hist(R_, bins=256, color='r', alpha=0.5)\n",
    "plt.hist(G_, bins=256, color='g', alpha=0.5)\n",
    "plt.hist(B_, bins=256, color='b', alpha=0.5)\n",
    "plt.show();"
   ]
  },
  {
   "cell_type": "code",
   "execution_count": 42,
   "metadata": {},
   "outputs": [
    {
     "name": "stdout",
     "output_type": "stream",
     "text": [
      "Min/Max predicted values: 1 / 255\n"
     ]
    }
   ],
   "source": [
    "# Build prediction image\n",
    "R_pred = Y_pred[:, 0].reshape(HEIGHT, WIDTH)\n",
    "G_pred = Y_pred[:, 1].reshape(HEIGHT, WIDTH)\n",
    "B_pred = Y_pred[:, 2].reshape(HEIGHT, WIDTH)\n",
    "\n",
    "prediction = np.zeros((HEIGHT, WIDTH, 3), dtype=np.float64)\n",
    "prediction[:, :, 0] = R_pred\n",
    "prediction[:, :, 1] = G_pred\n",
    "prediction[:, :, 2] = B_pred\n",
    "\n",
    "prediction = np.round(prediction * 255).astype('uint8')  # range [0..255]\n",
    "\n",
    "print(\"Min / Max predicted values:\", np.min(prediction), \"/\", np.max(prediction))"
   ]
  },
  {
   "cell_type": "code",
   "execution_count": 24,
   "metadata": {},
   "outputs": [],
   "source": [
    "# Save output image    \n",
    "imageio.imwrite('prediction_wendolin_64_64.png', prediction)"
   ]
  }
 ],
 "metadata": {
  "kernelspec": {
   "display_name": "Python 3",
   "language": "python",
   "name": "python3"
  },
  "language_info": {
   "codemirror_mode": {
    "name": "ipython",
    "version": 3
   },
   "file_extension": ".py",
   "mimetype": "text/x-python",
   "name": "python",
   "nbconvert_exporter": "python",
   "pygments_lexer": "ipython3",
   "version": "3.6.7"
  }
 },
 "nbformat": 4,
 "nbformat_minor": 2
}
