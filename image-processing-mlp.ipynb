{
 "cells": [
  {
   "cell_type": "markdown",
   "metadata": {},
   "source": [
    "# Image processing reverse engineering with NN\n",
    "### www.datosimagensonido.com\n",
    "[Ingeniería inversa de procesado de imagen con redes neuronales](https://www.datosimagensonido.com/2019/04/ingenieria-inversa-de-procesado-de.html)"
   ]
  },
  {
   "cell_type": "markdown",
   "metadata": {},
   "source": [
    "## Libraries needed"
   ]
  },
  {
   "cell_type": "code",
   "execution_count": 1,
   "metadata": {},
   "outputs": [],
   "source": [
    "import os\n",
    "import imageio  # read/write image formats\n",
    "import pickle  # to save/load model\n",
    "\n",
    "import numpy as np\n",
    "import matplotlib.pyplot as plt\n",
    "from sklearn.neural_network import MLPRegressor  # our MLP!"
   ]
  },
  {
   "cell_type": "markdown",
   "metadata": {},
   "source": [
    "## Reading training set (images)"
   ]
  },
  {
   "cell_type": "code",
   "execution_count": 2,
   "metadata": {},
   "outputs": [
    {
     "name": "stdout",
     "output_type": "stream",
     "text": [
      "Images have HEIGHT = 4096 and WIDTH = 4096\n",
      "Total number of training examples is 16777216\n"
     ]
    }
   ],
   "source": [
    "features = imageio.imread('RGB16Million.png')  # courtesy of www.brucelindbloom.com\n",
    "targets  = imageio.imread('RGB16Million_processed.png')\n",
    "\n",
    "HEIGHT = features.shape[0]\n",
    "WIDTH  = features.shape[1]\n",
    "\n",
    "print(\"Images have HEIGHT =\", HEIGHT, \"and WIDTH =\", WIDTH)\n",
    "print(\"Total number of training examples is\", HEIGHT * WIDTH)"
   ]
  },
  {
   "cell_type": "code",
   "execution_count": 3,
   "metadata": {},
   "outputs": [
    {
     "data": {
      "image/png": "[encoded data removed]",
      "text/plain": [
       "<Figure size 432x288 with 1 Axes>"
      ]
     },
     "metadata": {
      "needs_background": "light"
     },
     "output_type": "display_data"
    }
   ],
   "source": [
    "# Features histogram (flat since it contains once every possible value)\n",
    "R = features[:, :, 0].flatten()\n",
    "G = features[:, :, 1].flatten()\n",
    "B = features[:, :, 2].flatten()\n",
    "\n",
    "plt.hist(R, bins=range(0, 257), color='r', alpha=0.4)\n",
    "plt.hist(G, bins=range(0, 257), color='g', alpha=0.4)\n",
    "plt.hist(B, bins=range(0, 257), color='b', alpha=0.4)\n",
    "plt.show();"
   ]
  },
  {
   "cell_type": "code",
   "execution_count": 4,
   "metadata": {},
   "outputs": [
    {
     "data": {
      "image/png": "[encoded data removed]",
      "text/plain": [
       "<Figure size 432x288 with 1 Axes>"
      ]
     },
     "metadata": {
      "needs_background": "light"
     },
     "output_type": "display_data"
    }
   ],
   "source": [
    "# Targets histogram\n",
    "R_ = targets[:, :, 0].flatten()\n",
    "G_ = targets[:, :, 1].flatten()\n",
    "B_ = targets[:, :, 2].flatten()\n",
    "\n",
    "plt.hist(R_, bins=range(0, 257), color='r', alpha=0.4)\n",
    "plt.hist(G_, bins=range(0, 257), color='g', alpha=0.4)\n",
    "plt.hist(B_, bins=range(0, 257), color='b', alpha=0.4)\n",
    "plt.show();"
   ]
  },
  {
   "cell_type": "markdown",
   "metadata": {},
   "source": [
    "## Neural network layout and training"
   ]
  },
  {
   "cell_type": "code",
   "execution_count": 5,
   "metadata": {},
   "outputs": [],
   "source": [
    "# Convert images into long 2D arrays in the [0..1] range\n",
    "X = np.column_stack((R, G, B)) / 255\n",
    "Y = np.column_stack((R_, G_, B_)) / 255"
   ]
  },
  {
   "cell_type": "code",
   "execution_count": 6,
   "metadata": {},
   "outputs": [
    {
     "name": "stdout",
     "output_type": "stream",
     "text": [
      "Variable       Type       Data/Info\n",
      "-----------------------------------\n",
      "HEIGHT         int        4096\n",
      "MLPRegressor   ABCMeta    <class 'sklearn.neural_ne<...>perceptron.MLPRegressor'>\n",
      "WIDTH          int        4096\n",
      "X              ndarray    16777216x3: 50331648 elems, type `float64`, 402653184 bytes (384.0 Mb)\n",
      "Y              ndarray    16777216x3: 50331648 elems, type `float64`, 402653184 bytes (384.0 Mb)\n",
      "imageio        module     <module 'imageio' from 'C<...>s\\\\imageio\\\\__init__.py'>\n",
      "np             module     <module 'numpy' from 'C:\\<...>ges\\\\numpy\\\\__init__.py'>\n",
      "os             module     <module 'os' from 'C:\\\\Us<...>vs\\\\py36env\\\\lib\\\\os.py'>\n",
      "pickle         module     <module 'pickle' from 'C:<...>py36env\\\\lib\\\\pickle.py'>\n",
      "plt            module     <module 'matplotlib.pyplo<...>\\\\matplotlib\\\\pyplot.py'>\n"
     ]
    }
   ],
   "source": [
    "# Save memory\n",
    "del features, targets, R, G, B, R_, G_, B_\n",
    "%whos"
   ]
  },
  {
   "cell_type": "code",
   "execution_count": 104,
   "metadata": {
    "scrolled": false
   },
   "outputs": [
    {
     "name": "stdout",
     "output_type": "stream",
     "text": [
      "Iteration 1, loss = 0.00047130\n",
      "Iteration 2, loss = 0.00004503\n",
      "Iteration 3, loss = 0.00002487\n",
      "Iteration 4, loss = 0.00001743\n",
      "Iteration 5, loss = 0.00001426\n",
      "Iteration 6, loss = 0.00001215\n",
      "Iteration 7, loss = 0.00001040\n",
      "Iteration 8, loss = 0.00000902\n",
      "Iteration 9, loss = 0.00000803\n",
      "Iteration 10, loss = 0.00000732\n",
      "Iteration 11, loss = 0.00000681\n",
      "Iteration 12, loss = 0.00000639\n",
      "Iteration 13, loss = 0.00000604\n",
      "Iteration 14, loss = 0.00000573\n",
      "Iteration 15, loss = 0.00000545\n",
      "Iteration 16, loss = 0.00000519\n",
      "Iteration 17, loss = 0.00000496\n",
      "Iteration 18, loss = 0.00000475\n",
      "Iteration 19, loss = 0.00000456\n",
      "Iteration 20, loss = 0.00000440\n",
      "Iteration 21, loss = 0.00000424\n",
      "Iteration 22, loss = 0.00000408\n",
      "Iteration 23, loss = 0.00000393\n",
      "Iteration 24, loss = 0.00000379\n",
      "Iteration 25, loss = 0.00000366\n",
      "Iteration 26, loss = 0.00000355\n",
      "Iteration 27, loss = 0.00000345\n",
      "Iteration 28, loss = 0.00000336\n",
      "Iteration 29, loss = 0.00000329\n",
      "Iteration 30, loss = 0.00000321\n",
      "Iteration 31, loss = 0.00000315\n",
      "Iteration 32, loss = 0.00000309\n",
      "Iteration 33, loss = 0.00000304\n",
      "Iteration 34, loss = 0.00000298\n",
      "Iteration 35, loss = 0.00000293\n",
      "Iteration 36, loss = 0.00000289\n",
      "Iteration 37, loss = 0.00000285\n",
      "Iteration 38, loss = 0.00000280\n",
      "Training loss did not improve more than tol=0.000000 for 10 consecutive epochs. Stopping.\n"
     ]
    },
    {
     "data": {
      "text/plain": [
       "MLPRegressor(activation='logistic', alpha=0, batch_size='auto', beta_1=0.9,\n",
       "       beta_2=0.999, early_stopping=False, epsilon=1e-08,\n",
       "       hidden_layer_sizes=(64, 64), learning_rate='constant',\n",
       "       learning_rate_init=0.001, max_iter=40, momentum=0.9,\n",
       "       n_iter_no_change=10, nesterovs_momentum=True, power_t=0.5,\n",
       "       random_state=42, shuffle=True, solver='adam', tol=1e-07,\n",
       "       validation_fraction=0.1, verbose=True, warm_start=False)"
      ]
     },
     "execution_count": 104,
     "metadata": {},
     "output_type": "execute_result"
    }
   ],
   "source": [
    "# Define and train MLP\n",
    "regr = MLPRegressor(solver='adam',  # solver algorithm ('sgd', lbfgs')\n",
    "                    alpha=0,        # no L2 (ridge regression) regularization\n",
    "                    hidden_layer_sizes=(64, 64),  # tuple defining layers and nodes\n",
    "                    activation='logistic',  # hidden layers activation function (default 'relu') \n",
    "                                            # 'logistic' (sigmoid) works better than 'relu' and 'tanh'\n",
    "                    max_iter=40,            # max epochs\n",
    "                    tol=0.0000001,          # tolerance for early stopping\n",
    "                    n_iter_no_change=10,    # number of epochs to check tol\n",
    "                    random_state=42,        # guarantee reproducible training\n",
    "                    verbose=True)           # tell me a story\n",
    "regr.out_activation_ = 'identity'  # output layer activation function (default 'identity')\n",
    "                                   # 'identity' is adequate for regression\n",
    "regr.fit(X, Y)"
   ]
  },
  {
   "cell_type": "code",
   "execution_count": 105,
   "metadata": {},
   "outputs": [],
   "source": [
    "# Save MLP\n",
    "with open('mlp_64_64_logistic_identity.pkl', 'wb') as f:\n",
    "    pickle.dump(regr, f)"
   ]
  },
  {
   "cell_type": "code",
   "execution_count": 106,
   "metadata": {},
   "outputs": [
    {
     "data": {
      "image/png": "[encoded data removed]",
      "text/plain": [
       "<Figure size 432x288 with 1 Axes>"
      ]
     },
     "metadata": {
      "needs_background": "light"
     },
     "output_type": "display_data"
    }
   ],
   "source": [
    "# Plot error vs epoch\n",
    "plt.plot(regr.loss_curve_)\n",
    "plt.ylabel('Loss')\n",
    "plt.xlabel('Epochs');"
   ]
  },
  {
   "cell_type": "code",
   "execution_count": 107,
   "metadata": {},
   "outputs": [
    {
     "data": {
      "text/plain": [
       "[array([[ 4.50649366e+00, -1.01134902e+00,  1.20788868e+00,\n",
       "         -1.06058426e+01, -1.11703746e+00, -5.61507266e-01,\n",
       "         -7.15455508e+00,  2.18338619e+00, -1.72836360e+00,\n",
       "         -2.75812588e-01, -2.75765662e+00,  4.48298550e-02,\n",
       "         -2.98189263e+00, -2.16042205e+00, -4.20679149e+00,\n",
       "          6.27738451e+00, -1.43471310e+01, -5.99188607e+00,\n",
       "         -4.42642098e+00,  8.23813857e-01, -9.73595846e-01,\n",
       "         -2.32860327e+00, -8.04676393e+00,  2.38373133e+00,\n",
       "          2.07654481e+00,  8.79827733e+00,  3.94327058e+00,\n",
       "         -1.44797504e+01, -2.45368903e+00, -4.57711522e+00,\n",
       "          1.35885282e+01, -1.78859399e+00, -1.20932095e+00,\n",
       "          1.77629523e+00, -6.29861749e-01,  4.84762366e+00,\n",
       "         -4.18244802e+00, -7.69537638e+00, -1.70084340e+00,\n",
       "         -1.45886039e+00,  6.62424302e-03,  1.65322537e+01,\n",
       "          1.31866844e+00,  1.44744107e+00, -5.17443254e+00,\n",
       "         -3.83659133e-01, -3.57308619e+00,  4.22957978e+00,\n",
       "          8.94663993e-03, -4.14280507e+00,  2.12774618e+00,\n",
       "          7.89499616e+00,  1.51630133e-01,  2.06759643e+00,\n",
       "         -2.32257683e+00,  2.46766876e+00, -2.16767020e+00,\n",
       "         -1.09013475e+01, -2.13312615e+00, -1.18609720e+00,\n",
       "         -1.68963226e+01, -1.89102406e+00,  9.10580528e+00,\n",
       "         -1.90879603e+00],\n",
       "        [-2.40027886e+00,  1.15043197e+01,  1.70151196e+00,\n",
       "          8.83220890e+00, -2.04464061e+00,  4.02773748e+00,\n",
       "          4.94345250e+00, -6.67889315e-01, -1.22823651e+00,\n",
       "          2.83585505e+00,  6.93435822e+00,  3.28951630e+00,\n",
       "         -3.75592175e+00, -4.33529250e+00,  2.52252280e+00,\n",
       "         -1.28975319e+01,  1.05824849e+00, -1.15891886e+01,\n",
       "          3.46074225e+00, -1.52216896e+00, -1.34612317e+00,\n",
       "          1.16781372e+00,  7.67046386e+00,  9.38667184e+00,\n",
       "          4.84792467e+00,  1.62418762e+00, -9.69306744e+00,\n",
       "          1.11820194e+01,  2.55518132e+00,  2.01265759e+00,\n",
       "         -6.71928629e+00, -2.13865561e+00, -2.57050388e+00,\n",
       "          1.10122294e+00, -1.31986382e+00, -4.02429000e+00,\n",
       "         -1.14795760e+00, -8.83280016e-01, -1.69289660e+00,\n",
       "         -7.53320979e-01,  4.17783630e+00,  1.81293044e+00,\n",
       "         -1.06985973e-01,  1.88785694e+00, -2.85988104e+00,\n",
       "         -1.23310179e+00,  5.26689131e-01, -4.37278330e+00,\n",
       "          2.58092351e+00,  1.76771111e+01, -2.44034242e+00,\n",
       "          1.61105979e+01,  6.84037670e+00, -1.23694987e+00,\n",
       "          6.84621861e+00, -2.64571135e+00,  1.03354866e+01,\n",
       "          2.41075330e+00,  1.28973170e+00, -2.74067053e+00,\n",
       "          5.16332798e+00,  2.97505380e+01,  3.42335409e-01,\n",
       "          1.97324160e+00],\n",
       "        [-8.16806784e+00,  4.13760360e-01,  9.98504946e+00,\n",
       "          5.60043225e-01,  2.98081588e-02, -1.29763399e+00,\n",
       "          6.90798259e-01, -1.88030217e+01, -2.16675575e+00,\n",
       "          1.49659889e+00, -1.85656498e+00,  8.45935931e-01,\n",
       "          5.58566114e+00, -1.26020521e+00,  6.75424284e-01,\n",
       "          1.11538742e+00, -5.17507389e+00, -1.91865703e+00,\n",
       "         -5.06961892e+00, -1.74686066e+00, -1.16698211e+00,\n",
       "         -2.67836509e+00,  4.09515738e-01, -1.19611042e+01,\n",
       "         -8.69156071e+00, -2.49282125e+00,  7.09290783e+00,\n",
       "          1.67851823e+00, -6.70447301e+00,  7.16126479e+00,\n",
       "          5.24927544e+00,  1.79291363e+00,  6.49760550e-01,\n",
       "          2.64601169e+00, -1.71272460e+00, -7.69652046e-01,\n",
       "         -4.23365332e-01,  6.65965241e+00, -2.96242342e+00,\n",
       "         -3.05909509e+00, -1.90313338e+01,  6.41944501e-01,\n",
       "          1.66253973e+01, -3.97959456e+00,  2.74560453e+00,\n",
       "         -1.77153526e+00,  8.63817077e-01,  1.15058537e+00,\n",
       "         -1.19269074e+00, -1.29632669e+00,  2.75739017e+00,\n",
       "         -3.96880913e+00, -2.71621096e+00, -3.28421494e+00,\n",
       "          2.57633921e+00,  2.72360262e+00, -1.75232388e+01,\n",
       "         -1.32214972e+00,  4.36589095e+00,  1.97520464e+00,\n",
       "          1.30621985e+01, -3.06410100e-01, -2.34865384e+01,\n",
       "          2.27129736e+00]]),\n",
       " array([[ 1.31030356e+00, -1.50580449e+00,  6.43824262e-02, ...,\n",
       "         -7.82614358e-01,  5.68564268e+00, -6.71281532e-01],\n",
       "        [-4.70759423e+00, -1.04774495e+00,  6.28195962e-03, ...,\n",
       "         -1.95457486e+00, -7.47974070e+00,  2.05276313e-01],\n",
       "        [ 5.16107014e-02, -2.76178095e-01, -4.15829398e-02, ...,\n",
       "         -1.88414022e-01, -2.76844387e+00, -8.75364744e-01],\n",
       "        ...,\n",
       "        [-3.19615235e+00,  6.54195407e-01, -9.58685864e-01, ...,\n",
       "          2.68995215e+00,  1.72992686e+00, -8.31126306e-02],\n",
       "        [ 1.20333019e-01, -2.95404432e+00, -3.66239055e-01, ...,\n",
       "         -1.37038086e+00, -2.19100352e-01,  1.61528894e+00],\n",
       "        [ 8.03755769e-02,  1.19604127e+00,  2.06946805e-01, ...,\n",
       "         -3.64147185e-01,  1.41711036e+00, -7.67926620e-01]]),\n",
       " array([[ 1.63222792e-01, -4.19981286e-02,  5.89390637e-02],\n",
       "        [ 1.00956049e-01,  9.76937139e-02,  1.38667713e-01],\n",
       "        [ 3.39785435e-01,  2.37704731e-01,  2.89175824e-01],\n",
       "        [ 1.96518279e-03, -7.38086626e-02, -9.42007624e-02],\n",
       "        [ 1.59555560e-02,  7.89055055e-02,  8.68333987e-02],\n",
       "        [ 6.65867769e-02, -7.62028442e-01,  6.30712960e-01],\n",
       "        [ 1.19179207e-01, -7.18936505e-01, -8.43015403e-01],\n",
       "        [-1.86687262e-01,  1.04763193e-01, -9.62870006e-02],\n",
       "        [ 4.95113676e-02,  1.66599256e-01, -1.78008140e-02],\n",
       "        [ 1.61042410e-01,  7.59445012e-02,  1.42432700e-01],\n",
       "        [-1.29363808e-01, -6.49952625e-02, -1.26447152e-01],\n",
       "        [-7.23669726e-01, -1.08967896e+00, -2.61359380e-01],\n",
       "        [ 4.59338311e-02,  2.74278466e-01,  3.13846311e-01],\n",
       "        [ 1.06591125e-01,  2.00966243e-01,  6.82378591e-02],\n",
       "        [-1.08680806e-01, -3.78040132e-02, -9.38378606e-02],\n",
       "        [ 1.35181275e-01,  9.44885589e-01,  4.58718318e-01],\n",
       "        [-1.65219349e-02,  6.56273755e-02, -1.10183631e-01],\n",
       "        [-4.45861956e-01,  6.37209296e-01,  1.38304668e+00],\n",
       "        [ 1.13970872e+00,  2.59599776e+00,  2.48350597e-01],\n",
       "        [-1.09103068e-01,  1.42157280e-01,  8.80883472e-02],\n",
       "        [-4.45770559e-02, -1.07518118e-01,  1.58489739e-01],\n",
       "        [-1.14145872e-01, -2.06404855e-01, -1.37647533e-01],\n",
       "        [ 1.61604902e-01,  1.06182395e-01,  4.26586440e-03],\n",
       "        [ 3.39748305e-01,  7.74459875e-02, -4.22079166e-01],\n",
       "        [ 7.97497432e-02,  1.05698592e-01,  1.14901214e-01],\n",
       "        [ 8.48288402e-01,  7.24384482e-01,  4.62127517e-01],\n",
       "        [ 2.23454846e+00,  1.95469880e+00, -3.78134340e-01],\n",
       "        [ 8.83127725e-03,  2.44602067e-02,  4.55206260e-02],\n",
       "        [ 1.05418421e-01,  5.47196729e-02,  8.58953146e-02],\n",
       "        [ 9.46650204e-01,  4.04770346e-02,  1.13454062e+00],\n",
       "        [ 1.41400101e-02, -1.62977053e-01, -8.98867365e-02],\n",
       "        [ 1.49645152e-01,  2.44459794e-01,  1.34579519e-01],\n",
       "        [-1.04012119e-01, -3.97585232e-02,  4.20706849e-02],\n",
       "        [-7.58835846e-03,  8.23027046e-02,  1.55558390e-01],\n",
       "        [ 4.69863950e-02, -2.03544252e-02,  4.93446750e-02],\n",
       "        [-2.02321537e-01,  7.71788055e-01, -2.49121564e-01],\n",
       "        [ 1.16152460e+00, -8.48912028e-02,  1.22812890e+00],\n",
       "        [ 2.24204901e-01, -2.82949636e-02,  8.54233536e-03],\n",
       "        [ 1.61752279e+00,  1.10076644e-01, -1.01541321e+00],\n",
       "        [-3.61231838e-01, -2.60706825e-01,  4.54760748e-02],\n",
       "        [-3.67404987e-01, -3.27311199e-01,  1.28659589e+00],\n",
       "        [ 1.52032600e+00,  1.84926855e+00,  2.93352644e-01],\n",
       "        [-1.03038107e-01, -1.14746990e-02, -2.33552315e-01],\n",
       "        [ 1.24775773e-01, -3.32502986e-02,  1.89765589e-02],\n",
       "        [ 7.93330325e-02,  9.08182863e-02,  2.34089088e-01],\n",
       "        [-4.76337901e-01, -2.32660795e-01,  5.30307341e-02],\n",
       "        [-1.90308534e-01,  1.69386514e-01,  1.12786525e+00],\n",
       "        [-8.33210948e-01, -9.51771179e-01, -3.63668402e-01],\n",
       "        [ 1.31515865e-02,  4.01313150e-02,  5.10352166e-02],\n",
       "        [ 2.10654483e-02,  2.69617354e-02,  1.25105831e-01],\n",
       "        [ 1.29777827e-01,  3.41631070e-01, -5.59285817e-02],\n",
       "        [ 1.16004758e-01,  1.59866873e-01,  2.62212138e-01],\n",
       "        [-8.77761544e-02,  2.50316679e-01,  1.72795544e-01],\n",
       "        [-1.05112891e+00, -3.32945051e-02, -1.58139600e+00],\n",
       "        [ 6.41895079e-02, -2.54217748e-01,  1.01730134e-01],\n",
       "        [ 2.75149935e-01,  1.37634527e+00,  5.04479234e-01],\n",
       "        [ 7.44443982e-01,  2.47949680e-01,  4.94602280e-01],\n",
       "        [ 8.38145995e-02,  1.15661120e-01,  3.34160845e-02],\n",
       "        [ 1.67249671e-01,  9.42371069e-02,  2.44167422e-01],\n",
       "        [ 6.42715883e-03,  2.26224179e-02,  6.20103257e-02],\n",
       "        [-1.50762250e-01, -1.95907395e-01, -5.79272337e-02],\n",
       "        [-8.01439513e-01, -1.46823624e-01, -5.78691499e-01],\n",
       "        [ 1.54287630e-01, -8.57980237e-03,  2.93400577e-02],\n",
       "        [ 2.28627363e-01,  1.34787010e-01,  4.00122961e-02]])]"
      ]
     },
     "execution_count": 107,
     "metadata": {},
     "output_type": "execute_result"
    }
   ],
   "source": [
    "# MLP weights\n",
    "regr.coefs_"
   ]
  },
  {
   "cell_type": "code",
   "execution_count": 108,
   "metadata": {},
   "outputs": [
    {
     "data": {
      "text/plain": [
       "[array([ 0.54017443, -5.4630191 , -7.37108181,  0.29767981, -0.89838465,\n",
       "        -3.4098138 , -2.30671533,  1.85575396, -0.48667875, -4.17206484,\n",
       "        -3.49801841, -4.14063662, -0.99250395,  3.85230971, -0.08521387,\n",
       "        -1.09207897, -0.10624035,  3.76550339,  0.0353639 , -0.09992577,\n",
       "        -0.23367071,  0.50862985, -1.13078914,  1.45767093, -0.46252094,\n",
       "        -6.17887522, -1.93939925,  2.49681353,  2.38733622, -3.03110513,\n",
       "        -3.14339618, -0.50753239, -1.22787298, -5.00767683, -0.60488982,\n",
       "        -3.93597303,  1.85159697, -0.71382713, -0.61893124,  0.45621521,\n",
       "         1.93241578, -3.48726935, -6.09049438, -2.46740662, -1.80297639,\n",
       "        -0.60346401,  1.30093281, -3.86941968, -3.82300313, -2.46673912,\n",
       "        -2.60001636, -1.32188583, -3.27114851,  0.74364838, -3.79024342,\n",
       "        -2.10584242,  6.78782676,  0.052702  , -4.09708646, -0.95747607,\n",
       "        -0.67540274, -3.43152531,  7.69287728, -3.59739428]),\n",
       " array([ 4.47427102e-01, -2.64809153e-01, -4.29910170e-01,  5.08810905e-01,\n",
       "         2.44048290e-01, -3.20077102e-01, -2.69271035e-01, -3.74468812e-01,\n",
       "        -5.85874433e-01, -2.40252740e-01,  7.27319738e-01, -4.41979423e-02,\n",
       "        -5.26879151e-01, -2.17612168e-01,  2.16286174e-01, -4.48358511e-01,\n",
       "         5.51445714e-02, -3.65046805e-01, -3.07399622e-01, -2.59182109e-01,\n",
       "        -2.37476358e-01, -3.87133894e-01, -2.32419131e-01, -1.33138476e+00,\n",
       "        -2.72117251e-01, -1.01525546e-01,  9.24979212e-02, -6.11330640e-01,\n",
       "        -5.40309227e-01, -2.52202747e-01, -4.70878447e-01,  5.31071881e-02,\n",
       "        -4.20045848e-01, -3.11937509e-01,  8.91803686e-02, -6.74781199e-01,\n",
       "        -4.55101346e-01, -4.82606715e-02, -5.14083811e-01,  3.61135021e-01,\n",
       "        -7.99606147e-01, -1.41754969e-03,  3.25502251e-01, -2.25174491e-01,\n",
       "        -2.13118333e-01, -4.05377432e-01, -5.22093933e-01, -2.50611635e-01,\n",
       "         3.90712586e-01, -1.83972914e-01, -3.34300805e-01, -2.45603599e-01,\n",
       "        -1.70663895e-01,  8.30052516e-02,  1.97909142e-01, -7.08734913e-01,\n",
       "        -8.26207860e-01,  9.73398103e-04, -3.58496556e-01,  3.97336476e-01,\n",
       "         1.84597232e-01, -5.99711147e-01, -4.13803018e-01, -3.53538841e-01]),\n",
       " array([0.3654782 , 0.38598083, 0.13990063])]"
      ]
     },
     "execution_count": 108,
     "metadata": {},
     "output_type": "execute_result"
    }
   ],
   "source": [
    "# MLP biases\n",
    "regr.intercepts_"
   ]
  },
  {
   "cell_type": "markdown",
   "metadata": {},
   "source": [
    "## Neural network prediction"
   ]
  },
  {
   "cell_type": "code",
   "execution_count": 88,
   "metadata": {},
   "outputs": [],
   "source": [
    "# Load MLP (once trained and saved)\n",
    "\"\"\"\n",
    "with open('mlp_64_64_logistic_identity.pkl', 'rb') as f:\n",
    "    regr = pickle.load(f)\n",
    "\"\"\""
   ]
  },
  {
   "cell_type": "code",
   "execution_count": 8,
   "metadata": {},
   "outputs": [],
   "source": [
    "# Read image to process (unseen by the NN)\n",
    "img_test = imageio.imread('wendolin.png')\n",
    "\n",
    "HEIGHT = img_test.shape[0]\n",
    "WIDTH  = img_test.shape[1]\n",
    "\n",
    "# Extract RGB channels\n",
    "R = img_test[:, :, 0].flatten()\n",
    "G = img_test[:, :, 1].flatten()\n",
    "B = img_test[:, :, 2].flatten()\n",
    "\n",
    "X_test = np.column_stack((R, G, B)) / 255"
   ]
  },
  {
   "cell_type": "code",
   "execution_count": 9,
   "metadata": {},
   "outputs": [],
   "source": [
    "# Prediction\n",
    "Y_pred = regr.predict(X_test)\n",
    "\n",
    "# Keep in range [0..1]\n",
    "Y_pred[Y_pred < 0] = 0.0\n",
    "Y_pred[Y_pred > 1] = 1.0"
   ]
  },
  {
   "cell_type": "code",
   "execution_count": 10,
   "metadata": {},
   "outputs": [
    {
     "data": {
      "image/png": "[encoded data removed]",
      "text/plain": [
       "<Figure size 432x288 with 1 Axes>"
      ]
     },
     "metadata": {
      "needs_background": "light"
     },
     "output_type": "display_data"
    }
   ],
   "source": [
    "# Prediction histogram\n",
    "R_ = np.round(Y_pred[:, 0] * 255).astype(int)\n",
    "G_ = np.round(Y_pred[:, 1] * 255).astype(int)\n",
    "B_ = np.round(Y_pred[:, 2] * 255).astype(int)\n",
    "\n",
    "plt.hist(R_, bins=range(0, 257), color='r', alpha=0.4)\n",
    "plt.hist(G_, bins=range(0, 257), color='g', alpha=0.4)\n",
    "plt.hist(B_, bins=range(0, 257), color='b', alpha=0.4)\n",
    "plt.show();"
   ]
  },
  {
   "cell_type": "code",
   "execution_count": 112,
   "metadata": {},
   "outputs": [
    {
     "name": "stdout",
     "output_type": "stream",
     "text": [
      "Min / Max predicted values: 0 / 255\n"
     ]
    }
   ],
   "source": [
    "# Build prediction image\n",
    "R_pred = Y_pred[:, 0].reshape(HEIGHT, WIDTH)\n",
    "G_pred = Y_pred[:, 1].reshape(HEIGHT, WIDTH)\n",
    "B_pred = Y_pred[:, 2].reshape(HEIGHT, WIDTH)\n",
    "\n",
    "prediction = np.zeros((HEIGHT, WIDTH, 3), dtype=np.float64)\n",
    "prediction[:, :, 0] = R_pred\n",
    "prediction[:, :, 1] = G_pred\n",
    "prediction[:, :, 2] = B_pred\n",
    "\n",
    "prediction = np.round(prediction * 255).astype('uint8')  # range [0..255]\n",
    "\n",
    "print(\"Min / Max predicted values:\", np.min(prediction), \"/\", np.max(prediction))"
   ]
  },
  {
   "cell_type": "code",
   "execution_count": 113,
   "metadata": {},
   "outputs": [],
   "source": [
    "# Save prediction\n",
    "imageio.imwrite('pred_wendolin_64_64_logistic_identity.png', prediction)"
   ]
  }
 ],
 "metadata": {
  "kernelspec": {
   "display_name": "Python 3",
   "language": "python",
   "name": "python3"
  },
  "language_info": {
   "codemirror_mode": {
    "name": "ipython",
    "version": 3
   },
   "file_extension": ".py",
   "mimetype": "text/x-python",
   "name": "python",
   "nbconvert_exporter": "python",
   "pygments_lexer": "ipython3",
   "version": "3.6.7"
  }
 },
 "nbformat": 4,
 "nbformat_minor": 2
}
