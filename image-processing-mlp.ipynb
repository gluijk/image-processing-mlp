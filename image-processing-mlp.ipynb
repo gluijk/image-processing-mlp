{
 "cells": [
  {
   "cell_type": "markdown",
   "metadata": {},
   "source": [
    "# Image processing reverse engineering with NN\n",
    "### www.elmomentodecisivo.com"
   ]
  },
  {
   "cell_type": "markdown",
   "metadata": {},
   "source": [
    "## Libraries needed"
   ]
  },
  {
   "cell_type": "code",
   "execution_count": 1,
   "metadata": {},
   "outputs": [],
   "source": [
    "import os\n",
    "import imageio  # read/write image formats\n",
    "\n",
    "import numpy as np\n",
    "import matplotlib.pyplot as plt\n",
    "from sklearn.neural_network import MLPRegressor  # our MLP!\n",
    "import pickle  # to save/load the model"
   ]
  },
  {
   "cell_type": "markdown",
   "metadata": {},
   "source": [
    "## Read images (training set)"
   ]
  },
  {
   "cell_type": "code",
   "execution_count": 2,
   "metadata": {},
   "outputs": [
    {
     "name": "stdout",
     "output_type": "stream",
     "text": [
      "Images have HEIGHT = 4096 and WIDTH = 4096\n",
      "Total number of training examples is 16777216\n"
     ]
    }
   ],
   "source": [
    "features = imageio.imread('./RGB16Million.png')  # by www.brucelindbloom.com\n",
    "targets = imageio.imread('./RGB16Milliontransformed.png')\n",
    "\n",
    "HEIGHT = features.shape[0]\n",
    "WIDTH = features.shape[1]\n",
    "\n",
    "print(\"Images have HEIGHT =\", HEIGHT, \"and WIDTH =\", WIDTH)\n",
    "print(\"Total number of training examples is\", HEIGHT*WIDTH)"
   ]
  },
  {
   "cell_type": "code",
   "execution_count": 3,
   "metadata": {},
   "outputs": [
    {
     "data": {
      "image/png": "[encoded data removed]",
      "text/plain": [
       "<Figure size 432x288 with 1 Axes>"
      ]
     },
     "metadata": {
      "needs_background": "light"
     },
     "output_type": "display_data"
    }
   ],
   "source": [
    "# Features histogram (flat since it contains once every possible value)\n",
    "R = features[:, :, 0].flatten()\n",
    "G = features[:, :, 1].flatten()\n",
    "B = features[:, :, 2].flatten()\n",
    "\n",
    "plt.hist(R, bins=256, color='r', alpha=0.5)\n",
    "plt.hist(G, bins=256, color='g', alpha=0.5)\n",
    "plt.hist(B, bins=256, color='b', alpha=0.5)\n",
    "plt.show();"
   ]
  },
  {
   "cell_type": "code",
   "execution_count": 4,
   "metadata": {},
   "outputs": [
    {
     "data": {
      "image/png": "[encoded data removed]",
      "text/plain": [
       "<Figure size 432x288 with 1 Axes>"
      ]
     },
     "metadata": {
      "needs_background": "light"
     },
     "output_type": "display_data"
    }
   ],
   "source": [
    "# Targets histogram\n",
    "R_ = targets[:, :, 0].flatten()\n",
    "G_ = targets[:, :, 1].flatten()\n",
    "B_ = targets[:, :, 2].flatten()\n",
    "\n",
    "plt.hist(R_, bins=256, color='r', alpha=0.5)\n",
    "plt.hist(G_, bins=256, color='g', alpha=0.5)\n",
    "plt.hist(B_, bins=256, color='b', alpha=0.5)\n",
    "plt.show();"
   ]
  },
  {
   "cell_type": "markdown",
   "metadata": {},
   "source": [
    "## Neural Network training"
   ]
  },
  {
   "cell_type": "code",
   "execution_count": 5,
   "metadata": {},
   "outputs": [],
   "source": [
    "# Convert images into long 2D arrays in the [0..1] range\n",
    "X = np.column_stack((R, G, B)) / 255\n",
    "Y = np.column_stack((R_, G_, B_)) / 255"
   ]
  },
  {
   "cell_type": "code",
   "execution_count": 6,
   "metadata": {},
   "outputs": [],
   "source": [
    "# Save memory\n",
    "del features, targets, R, G, B, R_, G_, B_\n",
    "# %whos"
   ]
  },
  {
   "cell_type": "code",
   "execution_count": 7,
   "metadata": {},
   "outputs": [],
   "source": [
    "# Load mlp (if already trained and saved)\n",
    "#\"\"\"\n",
    "with open('mlp_64_64_logistic_identity.pkl', 'rb') as f:\n",
    "    regr = pickle.load(f)\n",
    "#\"\"\""
   ]
  },
  {
   "cell_type": "code",
   "execution_count": 8,
   "metadata": {
    "scrolled": true
   },
   "outputs": [
    {
     "name": "stdout",
     "output_type": "stream",
     "text": [
      "Iteration 1, loss = 0.00019948\n",
      "Iteration 2, loss = 0.00003499\n",
      "Iteration 3, loss = 0.00002311\n",
      "Iteration 4, loss = 0.00001887\n",
      "Iteration 5, loss = 0.00001601\n",
      "Iteration 6, loss = 0.00001406\n",
      "Iteration 7, loss = 0.00001266\n",
      "Iteration 8, loss = 0.00001166\n",
      "Iteration 9, loss = 0.00001096\n",
      "Iteration 10, loss = 0.00001037\n",
      "Iteration 11, loss = 0.00000990\n",
      "Iteration 12, loss = 0.00000950\n",
      "Iteration 13, loss = 0.00000917\n",
      "Iteration 14, loss = 0.00000887\n",
      "Iteration 15, loss = 0.00000862\n",
      "Iteration 16, loss = 0.00000837\n",
      "Iteration 17, loss = 0.00000818\n",
      "Iteration 18, loss = 0.00000798\n",
      "Iteration 19, loss = 0.00000783\n",
      "Iteration 20, loss = 0.00000766\n",
      "Iteration 21, loss = 0.00000751\n",
      "Iteration 22, loss = 0.00000738\n",
      "Iteration 23, loss = 0.00000725\n",
      "Iteration 24, loss = 0.00000713\n",
      "Iteration 25, loss = 0.00000701\n",
      "Iteration 26, loss = 0.00000689\n",
      "Iteration 27, loss = 0.00000679\n",
      "Iteration 28, loss = 0.00000668\n",
      "Iteration 29, loss = 0.00000658\n",
      "Iteration 30, loss = 0.00000651\n",
      "Iteration 31, loss = 0.00000641\n",
      "Iteration 32, loss = 0.00000634\n",
      "Iteration 33, loss = 0.00000627\n",
      "Iteration 34, loss = 0.00000620\n",
      "Iteration 35, loss = 0.00000612\n",
      "Iteration 36, loss = 0.00000606\n",
      "Iteration 37, loss = 0.00000600\n",
      "Iteration 38, loss = 0.00000593\n",
      "Iteration 39, loss = 0.00000587\n",
      "Training loss did not improve more than tol=0.000000 for 10 consecutive epochs. Stopping.\n"
     ]
    },
    {
     "data": {
      "text/plain": [
       "MLPRegressor(activation='tanh', alpha=0, batch_size='auto', beta_1=0.9,\n",
       "       beta_2=0.999, early_stopping=False, epsilon=1e-08,\n",
       "       hidden_layer_sizes=(64, 64), learning_rate='constant',\n",
       "       learning_rate_init=0.001, max_iter=40, momentum=0.9,\n",
       "       n_iter_no_change=10, nesterovs_momentum=True, power_t=0.5,\n",
       "       random_state=42, shuffle=True, solver='adam', tol=1e-07,\n",
       "       validation_fraction=0.1, verbose=True, warm_start=False)"
      ]
     },
     "execution_count": 8,
     "metadata": {},
     "output_type": "execute_result"
    }
   ],
   "source": [
    "# Train mlp\n",
    "# hidden: mejor logistic (aclara) que relu (oscurece)\n",
    "# output: da igual identity que relu\n",
    "regr = MLPRegressor(solver='adam',  # solver algorithm ('sgd', lbfgs')\n",
    "                    alpha=0,        # no L2 (ridge regression) regularization\n",
    "                    hidden_layer_sizes=(64, 64),  # tuple setting layers and nodes\n",
    "                    activation='tanh',      # hidden layer activation function (default 'relu') \n",
    "                                            # 'logistic' (sigmoid) seems adequate for continuous functions\n",
    "                    max_iter=40,            # max epochs\n",
    "                    tol=0.0000001,          # tolerance for early stopping\n",
    "                    n_iter_no_change=10,    # number of epochs to check tol\n",
    "                    random_state=42,        # reproducible training guaranteed\n",
    "                    verbose=True)           # tell me a story\n",
    "regr.out_activation_ = 'relu'  # output layer activation function (default 'identity')\n",
    "                               # 'relu' seems adequate since RGB values are >=0\n",
    "regr.fit(X, Y)"
   ]
  },
  {
   "cell_type": "code",
   "execution_count": 10,
   "metadata": {},
   "outputs": [],
   "source": [
    "# Save mlp model\n",
    "with open('mlp_64_64_tanh_relu.pkl', 'wb') as f:\n",
    "    pickle.dump(regr, f)"
   ]
  },
  {
   "cell_type": "code",
   "execution_count": 8,
   "metadata": {},
   "outputs": [
    {
     "data": {
      "image/png": "[encoded data removed]",
      "text/plain": [
       "<Figure size 432x288 with 1 Axes>"
      ]
     },
     "metadata": {
      "needs_background": "light"
     },
     "output_type": "display_data"
    }
   ],
   "source": [
    "plt.plot(regr.loss_curve_)\n",
    "plt.ylabel('Loss')\n",
    "plt.xlabel('Epochs');"
   ]
  },
  {
   "cell_type": "code",
   "execution_count": 9,
   "metadata": {},
   "outputs": [
    {
     "data": {
      "text/plain": [
       "[array([[ 3.82909901e+00, -1.99658410e+00,  4.17425280e-01,\n",
       "         -8.13774435e+00, -1.01730165e+00, -6.63953168e-01,\n",
       "         -6.95426358e+00,  8.39479543e-01, -1.53702142e+00,\n",
       "          1.40498719e-01, -1.73488332e+00,  4.10280064e-01,\n",
       "         -2.12911537e+00, -2.50745367e+00, -4.02648204e+00,\n",
       "          5.64549277e+00, -6.91926394e+00, -6.23322104e+00,\n",
       "         -3.06435137e+00,  7.89709063e-01, -8.27043872e-01,\n",
       "         -2.89511210e+00, -9.47588030e+00,  2.73900790e+00,\n",
       "          3.07403808e+00,  9.66458308e+00,  3.42063984e+00,\n",
       "         -1.33528246e+01, -2.59281472e+00, -4.48924652e+00,\n",
       "          1.09650330e+01, -1.86320836e+00, -1.11597599e+00,\n",
       "          2.33822737e+00, -3.50681625e-01,  5.83176984e-01,\n",
       "         -4.69299484e+00, -6.61733310e+00, -1.46453626e+00,\n",
       "         -1.34963395e+00, -5.25418765e-01,  1.83508906e+01,\n",
       "          5.72399848e-01,  1.17742576e+00, -3.02116613e+00,\n",
       "         -1.58582254e-01, -3.70021589e+00,  5.34405353e+00,\n",
       "         -1.17832503e+00,  4.03063775e-01,  2.80553263e+00,\n",
       "          8.99247649e+00,  1.84187873e+00,  2.04977888e+00,\n",
       "         -1.11913995e+00,  1.39296022e+00, -1.61650686e+00,\n",
       "         -9.07095117e+00, -2.27845689e+00, -1.12811391e+00,\n",
       "         -1.73665032e+01, -1.24632867e+00,  8.32967348e+00,\n",
       "         -2.01073599e+00],\n",
       "        [-2.81444265e+00,  1.14365418e+01,  2.54284656e+00,\n",
       "          8.35959523e+00, -2.10800038e+00,  4.08050951e+00,\n",
       "          4.35036716e+00,  8.34303261e-01, -1.25242270e+00,\n",
       "          2.14110715e+00,  5.83334908e+00,  2.66253884e+00,\n",
       "         -3.33866729e+00, -3.37970507e+00,  2.60970882e+00,\n",
       "         -1.24327911e+01,  1.41290704e+00, -1.05051188e+01,\n",
       "          2.79842676e+00, -1.56093679e+00, -1.52381600e+00,\n",
       "          4.82737397e-01,  6.67397261e+00,  8.64739639e+00,\n",
       "          5.25580342e+00,  5.62588266e-01, -9.42733062e+00,\n",
       "          1.06567486e+01,  3.23408175e+00,  2.32631813e+00,\n",
       "         -5.14929902e+00, -1.99972980e+00, -2.48039698e+00,\n",
       "          4.68620577e-01, -1.43068621e+00, -3.18720347e+00,\n",
       "         -1.33382600e+00, -8.86026652e-01, -1.84828268e+00,\n",
       "         -5.97795145e-01,  4.93279683e+00,  1.48483317e+00,\n",
       "         -3.77970565e-03,  1.69493754e+00, -1.51408185e+00,\n",
       "         -1.40546213e+00,  7.48532464e-01, -5.61253406e+00,\n",
       "          9.34031102e-01,  1.72370606e+01, -2.26582761e+00,\n",
       "          1.63376866e+01,  2.95652936e+00, -1.35067204e+00,\n",
       "          1.23884450e+01, -2.89098948e+00,  9.62251954e+00,\n",
       "          1.77632853e+00,  2.94575192e+00, -2.80659844e+00,\n",
       "          5.46835161e+00,  3.05689806e+01,  2.55919407e-03,\n",
       "          1.93904999e+00],\n",
       "        [-6.89067833e+00,  8.93361659e-01,  1.13411923e+01,\n",
       "         -4.06414439e-01,  2.18266512e-01, -1.72531148e+00,\n",
       "          1.68416965e+00, -2.20115872e+01, -1.72010385e+00,\n",
       "          1.54856508e+00, -9.30683769e-01,  9.30352853e-01,\n",
       "          6.40685795e+00, -1.03293479e+00,  4.78867561e-01,\n",
       "         -2.15048788e+00, -5.63555823e+00, -1.45838144e+00,\n",
       "         -4.41196233e+00, -1.74731978e+00, -1.07445003e+00,\n",
       "         -3.35129225e+00,  1.71936654e+00, -1.23151394e+01,\n",
       "         -9.12776695e+00, -3.20940195e+00,  7.95595489e+00,\n",
       "          1.70338407e+00, -6.42674206e+00,  4.86282458e+00,\n",
       "          3.96273171e+00,  2.08366589e+00,  1.13782081e+00,\n",
       "          2.11992661e+00, -1.50986555e+00,  1.18223163e+00,\n",
       "          1.13781404e-01,  4.76059143e+00, -2.43549807e+00,\n",
       "         -2.58061700e+00, -1.05020406e+01,  9.94757066e-01,\n",
       "          1.72594383e+01, -2.44308916e+00,  2.84683121e+00,\n",
       "         -1.60995447e+00,  1.17370885e+00,  1.02189267e-01,\n",
       "         -4.27150011e+00, -6.53350740e-01,  2.17361583e+00,\n",
       "         -4.31931025e+00, -3.45411374e+00, -3.29146828e+00,\n",
       "          6.45566145e-01,  2.38552128e+00, -1.72330107e+01,\n",
       "         -1.79345494e-01,  3.98519906e+00,  2.11438984e+00,\n",
       "          1.31118531e+01,  2.80720810e-01, -2.29644137e+01,\n",
       "          2.36733498e+00]]),\n",
       " array([[ 1.15319508, -3.8900592 ,  0.90779994, ...,  0.25974944,\n",
       "          3.34742661, -0.34529705],\n",
       "        [-3.77186222,  0.11576172, -1.03218616, ...,  0.05573319,\n",
       "         -4.98307138,  0.84371466],\n",
       "        [ 0.76760956,  0.8495    ,  1.84631983, ..., -0.35449901,\n",
       "         -4.14872455, -0.68876375],\n",
       "        ...,\n",
       "        [-1.69905433,  0.29327416, -0.41301552, ...,  0.58846017,\n",
       "          0.61742447,  0.59819253],\n",
       "        [ 0.38448402, -2.29275786, -0.17044216, ...,  0.56550407,\n",
       "          0.06396728,  2.64651172],\n",
       "        [-0.28780065,  0.45529467,  0.50937088, ..., -0.31019654,\n",
       "          1.37605768,  0.10077694]]),\n",
       " array([[ 1.34346051e-01, -3.45049381e-02,  4.08973550e-02],\n",
       "        [ 1.15434256e-01,  6.89916790e-02,  9.28934933e-02],\n",
       "        [ 2.52097094e-01,  1.16342459e-01,  2.14674958e-01],\n",
       "        [-1.58535019e-02, -1.95413329e-01, -2.42124397e-01],\n",
       "        [ 1.18208656e-02,  6.59386867e-02,  6.87257887e-02],\n",
       "        [-4.95846794e-02, -6.58725077e-02, -2.66163329e-02],\n",
       "        [ 1.70005382e+00,  8.83152155e-01, -8.78850109e-01],\n",
       "        [-3.37321339e-01,  1.65766033e-01, -1.82930479e-01],\n",
       "        [ 1.51081751e-01,  1.82320027e-01, -1.57383757e-01],\n",
       "        [ 1.73900366e-01,  5.39890132e-02,  1.54208531e-01],\n",
       "        [-1.83313545e-01, -9.01573751e-02, -2.31335575e-01],\n",
       "        [-5.64697249e-02, -5.51745632e-01, -1.05625018e+00],\n",
       "        [-2.48096630e-01,  7.00314756e-01,  3.61052948e-01],\n",
       "        [ 8.13118859e-02,  1.10147525e-01, -3.40995323e-02],\n",
       "        [-9.90251390e-02, -7.07198284e-02, -1.16490136e-01],\n",
       "        [ 2.25039341e-01,  1.19217645e+00, -2.99473398e-01],\n",
       "        [ 2.19143231e-02,  9.18113945e-02, -4.93598601e-02],\n",
       "        [-2.78441366e-01,  6.53279114e-01, -1.43181962e-02],\n",
       "        [-1.39775536e-01,  7.39862069e-02, -2.28063236e-01],\n",
       "        [-2.05984720e-01,  2.16413404e-01, -1.72216300e-02],\n",
       "        [-8.69343077e-02, -6.28204755e-02,  4.22592871e-01],\n",
       "        [-4.06030676e-02, -9.44456003e-02, -1.52064679e-02],\n",
       "        [ 8.52675606e-02,  1.48296693e-01, -1.19134558e-02],\n",
       "        [ 6.90025253e-01,  1.55962571e-01,  7.94650986e-02],\n",
       "        [ 5.49851496e-02,  1.01166631e-01,  5.95914515e-02],\n",
       "        [ 7.74774198e-01,  2.08755317e-01,  7.33923764e-01],\n",
       "        [ 2.17534176e+00,  2.20808017e+00, -6.17636951e-01],\n",
       "        [-1.20374394e-02,  1.97982901e-02,  7.29161131e-02],\n",
       "        [ 7.45073770e-02,  3.51470576e-02,  6.09816248e-02],\n",
       "        [-2.40074026e-01, -6.87121082e-01,  8.73528327e-01],\n",
       "        [ 6.56479308e-03, -1.75444502e-01, -7.05741732e-02],\n",
       "        [ 1.63521040e-01,  3.01827760e-01,  2.13774408e-01],\n",
       "        [-1.15734037e-01, -1.13068824e-01,  4.40531496e-02],\n",
       "        [-3.96820664e-02,  9.20919957e-02,  1.32780818e-01],\n",
       "        [ 1.11906315e-01, -1.70690465e-02,  1.06117404e-01],\n",
       "        [-5.46668896e-01,  9.19871703e-01,  1.17460985e+00],\n",
       "        [ 8.41829766e-01, -3.51394192e-01,  2.57523245e-01],\n",
       "        [ 1.92566182e-01,  2.42694685e-05,  4.50673681e-02],\n",
       "        [ 6.63010135e-01, -1.73397103e+00, -8.51885486e-01],\n",
       "        [-3.58567610e-01, -2.32827254e-01,  8.51724596e-02],\n",
       "        [ 1.47104858e-01,  1.02568963e-02,  1.32978103e-01],\n",
       "        [ 2.91667070e-01,  1.72187096e-01,  1.73342129e-01],\n",
       "        [ 6.12205712e-03, -6.25596994e-02, -1.98439734e-01],\n",
       "        [ 1.28291115e-01, -4.87364084e-02, -1.65590059e-02],\n",
       "        [ 3.31375966e-03,  6.23347002e-02,  2.33427437e-01],\n",
       "        [-5.67051707e-02, -6.97597479e-02, -8.39147630e-02],\n",
       "        [ 2.13886519e-01,  1.82501936e-01,  1.45627854e+00],\n",
       "        [-1.05649169e+00, -1.58846521e+00, -2.61309442e-02],\n",
       "        [ 5.63951922e-03,  3.79045754e-02,  4.68019363e-02],\n",
       "        [-3.05426684e-02,  2.06674319e-02,  7.75149330e-02],\n",
       "        [ 2.38700717e-01,  4.75998302e-02,  1.95765053e-01],\n",
       "        [ 1.07805247e-01,  1.39353199e-01,  3.02384621e-01],\n",
       "        [ 1.24087813e-01,  3.40840369e-01,  3.18823055e-01],\n",
       "        [-1.50862792e+00, -9.48621476e-01, -1.88650332e+00],\n",
       "        [ 7.90316779e-01, -1.27942768e+00, -1.60804527e+00],\n",
       "        [ 2.09851872e+00,  3.42349883e-01,  5.34787467e-01],\n",
       "        [ 1.48502849e-02,  6.11294261e-01,  4.69026532e-01],\n",
       "        [ 1.43568825e-01,  2.20755813e-01,  1.07382191e-01],\n",
       "        [ 2.44087183e-01,  1.34282924e-01,  1.84739219e-01],\n",
       "        [ 1.43536042e-02,  3.09162104e-02,  5.55504330e-02],\n",
       "        [-1.00661240e-01, -2.03824106e-01, -1.09470990e-01],\n",
       "        [-7.47034844e-01, -3.72106404e-02, -7.78593069e-01],\n",
       "        [ 1.20308424e-01,  3.72585369e-03,  4.37927434e-02],\n",
       "        [ 4.70830057e-02,  1.18430423e-01, -3.33215048e-02]])]"
      ]
     },
     "execution_count": 9,
     "metadata": {},
     "output_type": "execute_result"
    }
   ],
   "source": [
    "# NN weights\n",
    "regr.coefs_"
   ]
  },
  {
   "cell_type": "code",
   "execution_count": 10,
   "metadata": {},
   "outputs": [
    {
     "data": {
      "text/plain": [
       "[array([ 0.39677249, -5.48130453, -8.10364306, -0.7364497 , -0.84342583,\n",
       "        -2.72625654, -2.09201806,  2.61235013, -0.35019585, -3.78649473,\n",
       "        -4.2346459 , -3.7722105 , -1.87750691,  3.31420111,  0.36334218,\n",
       "        -0.08159369, -1.01803329,  3.83344698,  0.30787307, -0.23594994,\n",
       "        -0.15698184,  0.32040035, -0.43900819,  1.98007637, -0.41719791,\n",
       "        -5.81546011, -2.01192844,  1.64888333,  2.50556433, -1.70733005,\n",
       "        -2.51640144, -0.64564182, -1.17070003, -4.40536075, -0.38105398,\n",
       "        -1.81521235,  2.09330602,  0.02489783, -0.48295433,  0.50645828,\n",
       "        -0.37261748, -3.88789487, -6.24666   , -2.71374398, -1.46344546,\n",
       "        -0.42605438,  1.57213813, -4.13081088, -4.36608897, -3.21297349,\n",
       "        -2.28389195, -1.34237489, -2.32679092,  0.27579859, -4.1933917 ,\n",
       "        -2.16991531,  6.65876986, -1.12140083, -3.95593961, -1.05779527,\n",
       "        -0.3319016 , -3.71530439,  8.27851394, -3.43085095]),\n",
       " array([ 0.73293549,  0.09564916, -0.4115014 , -0.02208561, -0.02048798,\n",
       "        -0.1209685 ,  0.03588285, -0.34664037, -0.4117924 , -0.39894724,\n",
       "         0.60596657, -0.29489055, -0.38430247, -0.3612377 ,  0.36222877,\n",
       "        -0.35716729,  0.12423817, -0.58924797,  0.11739389, -0.18415622,\n",
       "        -0.1507851 , -0.06630375, -0.36807963, -0.52223738, -0.21241129,\n",
       "        -0.37856062,  0.38027896, -0.47931553, -0.59775452, -0.61219213,\n",
       "        -0.42139375,  0.32957874, -0.17896714, -0.25940107, -0.00795706,\n",
       "        -0.39993169, -0.90213836, -0.03941777,  0.23523644,  0.25688602,\n",
       "        -0.78346869, -0.21264825,  0.25073623, -0.90057654, -0.07507393,\n",
       "        -0.18681848, -0.44020836, -0.10911816, -0.17630199,  0.10471778,\n",
       "         0.16619262, -0.2008706 , -0.1554854 ,  0.0487199 ,  0.24622859,\n",
       "        -0.40358103, -0.46126594,  0.23298722, -0.41820287,  0.84182508,\n",
       "         0.331558  , -0.18916094, -0.52957664, -0.28028566]),\n",
       " array([0.35172089, 0.31980848, 0.28261604])]"
      ]
     },
     "execution_count": 10,
     "metadata": {},
     "output_type": "execute_result"
    }
   ],
   "source": [
    "# NN biases\n",
    "regr.intercepts_"
   ]
  },
  {
   "cell_type": "markdown",
   "metadata": {},
   "source": [
    "## Neural Network prediction"
   ]
  },
  {
   "cell_type": "code",
   "execution_count": 11,
   "metadata": {},
   "outputs": [],
   "source": [
    "# Read image to process (unknown to the NN)\n",
    "to_predict = imageio.imread('./wendolin.png')\n",
    "\n",
    "HEIGHT = to_predict.shape[0]\n",
    "WIDTH = to_predict.shape[1]\n",
    "\n",
    "# Extract RGB channels\n",
    "R = to_predict[:, :, 0].flatten()\n",
    "G = to_predict[:, :, 1].flatten()\n",
    "B = to_predict[:, :, 2].flatten()\n",
    "\n",
    "X = np.column_stack((R, G, B)) / 255"
   ]
  },
  {
   "cell_type": "code",
   "execution_count": 12,
   "metadata": {},
   "outputs": [],
   "source": [
    "# Prediction\n",
    "Y_pred = regr.predict(X)\n",
    "\n",
    "# Keep in range [0..1]\n",
    "Y_pred[Y_pred < 0] = 0.0\n",
    "Y_pred[Y_pred > 1] = 1.0"
   ]
  },
  {
   "cell_type": "code",
   "execution_count": 13,
   "metadata": {},
   "outputs": [
    {
     "data": {
      "image/png": "[encoded data removed]",
      "text/plain": [
       "<Figure size 432x288 with 1 Axes>"
      ]
     },
     "metadata": {
      "needs_background": "light"
     },
     "output_type": "display_data"
    }
   ],
   "source": [
    "# Prediction histogram\n",
    "R_ = np.round(Y_pred[:, 0] * 255).astype(int)\n",
    "G_ = np.round(Y_pred[:, 1] * 255).astype(int)\n",
    "B_ = np.round(Y_pred[:, 2] * 255).astype(int)\n",
    "\n",
    "plt.hist(R_, bins=256, color='r', alpha=0.5)\n",
    "plt.hist(G_, bins=256, color='g', alpha=0.5)\n",
    "plt.hist(B_, bins=256, color='b', alpha=0.5)\n",
    "plt.show();"
   ]
  },
  {
   "cell_type": "code",
   "execution_count": 14,
   "metadata": {},
   "outputs": [
    {
     "name": "stdout",
     "output_type": "stream",
     "text": [
      "Min / Max predicted values: 0 / 255\n"
     ]
    }
   ],
   "source": [
    "# Build prediction image\n",
    "R_pred = Y_pred[:, 0].reshape(HEIGHT, WIDTH)\n",
    "G_pred = Y_pred[:, 1].reshape(HEIGHT, WIDTH)\n",
    "B_pred = Y_pred[:, 2].reshape(HEIGHT, WIDTH)\n",
    "\n",
    "prediction = np.zeros((HEIGHT, WIDTH, 3), dtype=np.float64)\n",
    "prediction[:, :, 0] = R_pred\n",
    "prediction[:, :, 1] = G_pred\n",
    "prediction[:, :, 2] = B_pred\n",
    "\n",
    "prediction = np.round(prediction * 255).astype('uint8')  # range [0..255]\n",
    "\n",
    "print(\"Min / Max predicted values:\", np.min(prediction), \"/\", np.max(prediction))"
   ]
  },
  {
   "cell_type": "code",
   "execution_count": 17,
   "metadata": {},
   "outputs": [],
   "source": [
    "# Save prediction\n",
    "imageio.imwrite('pred_wendolin_64_64_logistic_identity.png', prediction)"
   ]
  }
 ],
 "metadata": {
  "kernelspec": {
   "display_name": "Python 3",
   "language": "python",
   "name": "python3"
  },
  "language_info": {
   "codemirror_mode": {
    "name": "ipython",
    "version": 3
   },
   "file_extension": ".py",
   "mimetype": "text/x-python",
   "name": "python",
   "nbconvert_exporter": "python",
   "pygments_lexer": "ipython3",
   "version": "3.6.7"
  }
 },
 "nbformat": 4,
 "nbformat_minor": 2
}
